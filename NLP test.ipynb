{
 "cells": [
  {
   "cell_type": "code",
   "execution_count": 1,
   "id": "1fdf8a93",
   "metadata": {},
   "outputs": [],
   "source": [
    "import pandas as pd\n",
    "import numpy as np\n",
    "import warnings\n",
    "warnings.filterwarnings('ignore')"
   ]
  },
  {
   "cell_type": "code",
   "execution_count": 2,
   "id": "e4e332c4",
   "metadata": {},
   "outputs": [
    {
     "data": {
      "text/html": [
       "<div>\n",
       "<style scoped>\n",
       "    .dataframe tbody tr th:only-of-type {\n",
       "        vertical-align: middle;\n",
       "    }\n",
       "\n",
       "    .dataframe tbody tr th {\n",
       "        vertical-align: top;\n",
       "    }\n",
       "\n",
       "    .dataframe thead th {\n",
       "        text-align: right;\n",
       "    }\n",
       "</style>\n",
       "<table border=\"1\" class=\"dataframe\">\n",
       "  <thead>\n",
       "    <tr style=\"text-align: right;\">\n",
       "      <th></th>\n",
       "      <th>dlg_id</th>\n",
       "      <th>line_n</th>\n",
       "      <th>role</th>\n",
       "      <th>text</th>\n",
       "    </tr>\n",
       "  </thead>\n",
       "  <tbody>\n",
       "    <tr>\n",
       "      <th>1</th>\n",
       "      <td>0</td>\n",
       "      <td>1</td>\n",
       "      <td>manager</td>\n",
       "      <td>Алло здравствуйте</td>\n",
       "    </tr>\n",
       "    <tr>\n",
       "      <th>3</th>\n",
       "      <td>0</td>\n",
       "      <td>3</td>\n",
       "      <td>manager</td>\n",
       "      <td>Меня зовут ангелина компания диджитал бизнес з...</td>\n",
       "    </tr>\n",
       "    <tr>\n",
       "      <th>5</th>\n",
       "      <td>0</td>\n",
       "      <td>5</td>\n",
       "      <td>manager</td>\n",
       "      <td>Угу ну возможно вы рассмотрите и другие вариан...</td>\n",
       "    </tr>\n",
       "    <tr>\n",
       "      <th>8</th>\n",
       "      <td>0</td>\n",
       "      <td>8</td>\n",
       "      <td>manager</td>\n",
       "      <td>Угу а на что вы обращаете внимание при выборе</td>\n",
       "    </tr>\n",
       "    <tr>\n",
       "      <th>11</th>\n",
       "      <td>0</td>\n",
       "      <td>11</td>\n",
       "      <td>manager</td>\n",
       "      <td>Что для вас приоритет</td>\n",
       "    </tr>\n",
       "  </tbody>\n",
       "</table>\n",
       "</div>"
      ],
      "text/plain": [
       "    dlg_id  line_n     role                                               text\n",
       "1        0       1  manager                                  Алло здравствуйте\n",
       "3        0       3  manager  Меня зовут ангелина компания диджитал бизнес з...\n",
       "5        0       5  manager  Угу ну возможно вы рассмотрите и другие вариан...\n",
       "8        0       8  manager      Угу а на что вы обращаете внимание при выборе\n",
       "11       0      11  manager                              Что для вас приоритет"
      ]
     },
     "execution_count": 2,
     "metadata": {},
     "output_type": "execute_result"
    }
   ],
   "source": [
    "data = pd.read_csv('test_data.csv')\n",
    "data = data[data['role'] == 'manager']\n",
    "data.head()"
   ]
  },
  {
   "cell_type": "code",
   "execution_count": 3,
   "id": "ef0cd832",
   "metadata": {},
   "outputs": [],
   "source": [
    "dict_rus = {'ADJ': 'прилагательное',\n",
    "    'ADP': 'приставка',\n",
    "    'ADV': 'наречие',\n",
    "    'AUX': 'вспомогательный',\n",
    "    'CCONJ': 'сочинительный союз' ,\n",
    "    'DET': 'определение',\n",
    "    'INTJ': 'междометие',\n",
    "    'NOUN': 'существительное',\n",
    "    'NUM': 'цифра',\n",
    "    'PART': 'частица',\n",
    "    'PRON': 'местоимение',\n",
    "    'PROPN': 'имя собственное',\n",
    "    'PUNCT': 'знаки препинания' ,\n",
    "    'SCONJ': 'подчинительный союз',\n",
    "    'SYM': 'символ',\n",
    "    'VERB': 'глагол',\n",
    "    'X': 'другое'}"
   ]
  },
  {
   "cell_type": "code",
   "execution_count": 143,
   "id": "7ab3e011",
   "metadata": {},
   "outputs": [
    {
     "data": {
      "text/plain": [
       "'Меня зовут ангелина компания диджитал бизнес звоню вам по поводу продления а мы сели обратила внимание что у вас срок заканчивается'"
      ]
     },
     "execution_count": 143,
     "metadata": {},
     "output_type": "execute_result"
    }
   ],
   "source": [
    "text = data['text'][111]\n",
    "text"
   ]
  },
  {
   "cell_type": "code",
   "execution_count": 218,
   "id": "640fb5e6",
   "metadata": {},
   "outputs": [],
   "source": [
    "import spacy\n",
    "from spacy.displacy import serve as ss\n",
    "nlp = spacy.load(\"ru_core_news_sm\")\n",
    "import re\n",
    "import nltk\n",
    "import pymorphy2\n",
    "\n",
    "\n",
    "class NLP:\n",
    "    morf = pymorphy2.MorphAnalyzer()\n",
    "    def __init__(self, origin):  # lemma, name_manager, greeting, farewell, criterion):\n",
    "        self.origin = origin\n",
    "        self.lemma = self.func(self.origin)\n",
    "        self.name_maneger = self.re_func(self.lemma)\n",
    "        self.greeting = self.greet(self.origin)\n",
    "        self.farewell = self.farel(self.origin)\n",
    "        self.company = self.compan(self.lemma)\n",
    "        \n",
    "        \n",
    "    def func(self, text):\n",
    "        doc = nlp(text)\n",
    "        return ' '.join([i.lemma_ for i in doc])\n",
    "    \n",
    "    def re_func(self, text):\n",
    "        if re.search(r'меня \\w+ звать', text):\n",
    "            return re.findall(r'меня \\w+ звать', text)[0].split()[-2]\n",
    "        elif re.search(r'меня звать \\w', text):\n",
    "            return re.findall(r'меня звать \\w+', text)[0].split()[-1]\n",
    "        elif re.search(r'это \\w+', text):\n",
    "            name = re.findall(r'это \\w+', text)[0].split()[-1]\n",
    "            if 'Name' in morf.parse(name)[0].tag:\n",
    "                return name\n",
    "            else:\n",
    "                return None\n",
    "        else:\n",
    "            return None\n",
    "    \n",
    "    def greet(self, text):\n",
    "        if re.search(r'здравств|добрый день|добрый вечер|доброе утро', text):\n",
    "            return re.findall(r'здравств.*|добрый день|добрый вечер|доброе утро', text)[0]\n",
    "        else:\n",
    "            return False\n",
    "    \n",
    "    def farel(self, text):\n",
    "        if re.search(r'до свидан|всего хорош|всего добр', text):\n",
    "            return re.findall(r'до свидан.*|всего хорош.*|всего добр.*', text)[0]\n",
    "        else:\n",
    "            return False   \n",
    "    \n",
    "    def compan(self, text):\n",
    "        if re.search(r'компания', text):\n",
    "            name = re.findall(r'компания \\w+ \\w+', text)[0].split()\n",
    "            if 'NOUN' in morf.parse(name[1])[0].tag:\n",
    "                return name[1]\n",
    "            elif 'NOUN' in morf.parse(name[2])[0].tag:\n",
    "                return ' '.join(name[1:])\n",
    "            else:\n",
    "                return None\n",
    "        else:\n",
    "            return None"
   ]
  },
  {
   "cell_type": "code",
   "execution_count": 219,
   "id": "4d0e6e7f",
   "metadata": {
    "scrolled": false
   },
   "outputs": [],
   "source": [
    "a = NLP('алло здравстуйте')"
   ]
  },
  {
   "cell_type": "code",
   "execution_count": 220,
   "id": "56679c04",
   "metadata": {},
   "outputs": [],
   "source": [
    "a.name_maneger"
   ]
  },
  {
   "cell_type": "code",
   "execution_count": 223,
   "id": "c84c4881",
   "metadata": {},
   "outputs": [],
   "source": [
    "dict_s = {}\n",
    "\n",
    "for i in data['dlg_id'].unique():\n",
    "    data_iter = data[data['dlg_id'] == i]\n",
    "    dict_s[f'dlg_id_{i}'] = {'name_maneger': 'Не представился', \n",
    "                             'greeting': False, 'farewell': False,\n",
    "                             'criterion':False, 'company': 'Не названа'}\n",
    "    for string in data_iter['text']:\n",
    "        out = NLP(string)\n",
    "        if out.name_maneger != None:\n",
    "            dict_s[f'dlg_id_{i}']['name_maneger'] = out.name_maneger\n",
    "            \n",
    "        if out.greeting != False:\n",
    "            dict_s[f'dlg_id_{i}']['greeting'] = out.greeting\n",
    "        if out.farewell != False:\n",
    "            dict_s[f'dlg_id_{i}']['farewell'] = out.farewell\n",
    "        if dict_s[f'dlg_id_{i}']['greeting'] != False and dict_s[f'dlg_id_{i}']['farewell'] != False:\n",
    "            dict_s[f'dlg_id_{i}']['criterion'] = True\n",
    "        if out.company != None:\n",
    "            dict_s[f'dlg_id_{i}']['company'] = out.company"
   ]
  },
  {
   "cell_type": "code",
   "execution_count": 224,
   "id": "f6f01940",
   "metadata": {},
   "outputs": [
    {
     "data": {
      "text/plain": [
       "{'dlg_id_0': {'name_maneger': 'ангелина',\n",
       "  'greeting': 'здравствуйте',\n",
       "  'farewell': 'до свидания',\n",
       "  'criterion': True,\n",
       "  'company': 'диджитал бизнес'},\n",
       " 'dlg_id_1': {'name_maneger': 'ангелина',\n",
       "  'greeting': 'здравствуйте',\n",
       "  'farewell': 'всего хорошего',\n",
       "  'criterion': True,\n",
       "  'company': 'диджитал бизнес'},\n",
       " 'dlg_id_2': {'name_maneger': 'ангелина',\n",
       "  'greeting': 'здравствуйте',\n",
       "  'farewell': False,\n",
       "  'criterion': False,\n",
       "  'company': 'диджитал бизнес'},\n",
       " 'dlg_id_3': {'name_maneger': 'максим',\n",
       "  'greeting': 'добрый день',\n",
       "  'farewell': 'всего доброго',\n",
       "  'criterion': True,\n",
       "  'company': 'китобизнес'},\n",
       " 'dlg_id_4': {'name_maneger': 'Не представился',\n",
       "  'greeting': False,\n",
       "  'farewell': 'до свидания',\n",
       "  'criterion': False,\n",
       "  'company': 'Не названа'},\n",
       " 'dlg_id_5': {'name_maneger': 'анастасия',\n",
       "  'greeting': False,\n",
       "  'farewell': 'до свидания хорошего вечера',\n",
       "  'criterion': False,\n",
       "  'company': 'Не названа'}}"
      ]
     },
     "execution_count": 224,
     "metadata": {},
     "output_type": "execute_result"
    }
   ],
   "source": [
    "dict_s"
   ]
  },
  {
   "cell_type": "code",
   "execution_count": 225,
   "id": "1ca2d376",
   "metadata": {
    "scrolled": true
   },
   "outputs": [
    {
     "name": "stdout",
     "output_type": "stream",
     "text": [
      "Алло здравствуйте\n",
      "Меня зовут ангелина компания диджитал бизнес звоним вам по поводу продления лицензии а мы с серым у вас скоро срок заканчивается\n",
      "Угу ну возможно вы рассмотрите и другие варианты видите это хорошая практика сравнивать\n",
      "Угу а на что вы обращаете внимание при выборе\n",
      "Что для вас приоритет\n",
      "Ну у вас срок заканчивается поэтому мы набрали + ко всему\n",
      "А так нет не только поэтому просто я обратила внимание и вы пользуетесь виджетами мы там с вами сотрудничали\n",
      "А если вы 19 являетесь то лучше то идти бесплатно\n",
      "Ага хорошо\n",
      "Индивидуальным поэтому не все то есть сотрудничают с кем то сейчас да кому то например не с кем сейчас справляться кто то сравнивал\n",
      "Да мы услышали вас спасибо за рекомендации\n",
      "Вот понимаю да но дело в том что в основном да за месяц\n",
      "Необходимо обзванивать\n",
      "Хорошо я данную информацию тогда зафиксирую передам будем иметь ввиду\n",
      "И вам спасибо большое за обратную связь\n",
      "Всего хорошего до свидания\n"
     ]
    }
   ],
   "source": [
    "number_dlg = 0\n",
    "\n",
    "for i in data[data['dlg_id'] == number_dlg]['text']:\n",
    "    print(i)\n"
   ]
  },
  {
   "cell_type": "code",
   "execution_count": null,
   "id": "18d238f7",
   "metadata": {},
   "outputs": [],
   "source": []
  }
 ],
 "metadata": {
  "kernelspec": {
   "display_name": "NLP",
   "language": "python",
   "name": "nlp"
  },
  "language_info": {
   "codemirror_mode": {
    "name": "ipython",
    "version": 3
   },
   "file_extension": ".py",
   "mimetype": "text/x-python",
   "name": "python",
   "nbconvert_exporter": "python",
   "pygments_lexer": "ipython3",
   "version": "3.9.12"
  }
 },
 "nbformat": 4,
 "nbformat_minor": 5
}
